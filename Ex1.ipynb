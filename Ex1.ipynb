{
 "cells": [
  {
   "cell_type": "code",
   "execution_count": null,
   "id": "8ec57067-3088-4c12-bbba-c94675b63dd0",
   "metadata": {},
   "outputs": [],
   "source": [
    "from datetime import datetime, date\n",
    "import pandas as pd\n"
   ]
  },
  {
   "cell_type": "code",
   "execution_count": null,
   "id": "41f46d32-76cc-4c43-b3af-a2c05aa1ebdf",
   "metadata": {},
   "outputs": [],
   "source": [
    "import os"
   ]
  },
  {
   "cell_type": "code",
   "execution_count": null,
   "id": "f32e9ada-32bb-4f50-acfc-eb03660f6741",
   "metadata": {},
   "outputs": [],
   "source": [
    "os.environ[\"PYARROW_IGNORE_TIMEZONE\"] = \"1\""
   ]
  },
  {
   "cell_type": "code",
   "execution_count": null,
   "id": "300565b9-2cb6-4d2d-b5b3-bbb9dbdec42d",
   "metadata": {},
   "outputs": [],
   "source": [
    "from pyspark.sql import SparkSession\n",
    "\n",
    "spark = SparkSession.builder.getOrCreate()"
   ]
  },
  {
   "cell_type": "markdown",
   "id": "d6eabdaa-7ae4-48ee-8933-d8188792d3f2",
   "metadata": {},
   "source": [
    "spark dashboard is available at: [http://localhost:4040/](http://localhost:4040/)"
   ]
  },
  {
   "cell_type": "code",
   "execution_count": null,
   "id": "435a1929-2ada-4461-b3dc-6ba095899ccd",
   "metadata": {},
   "outputs": [],
   "source": [
    "spark.conf.set('spark.sql.repl.eagerEval.enabled', True)\n"
   ]
  },
  {
   "cell_type": "code",
   "execution_count": null,
   "id": "244421de-02dc-40a0-80cb-1abbd7e9f1b2",
   "metadata": {},
   "outputs": [],
   "source": [
    "from pyspark.sql.functions import *"
   ]
  },
  {
   "cell_type": "code",
   "execution_count": null,
   "id": "ff966bed-f173-4b46-a86d-6175dfd91ead",
   "metadata": {},
   "outputs": [],
   "source": [
    "import pyspark.pandas as ps"
   ]
  },
  {
   "cell_type": "code",
   "execution_count": null,
   "id": "6b52e517-1677-4d43-838c-139fe2562425",
   "metadata": {},
   "outputs": [],
   "source": []
  },
  {
   "cell_type": "markdown",
   "id": "2e5c8d2b-b59f-4c7a-82fa-fa3b67491e1c",
   "metadata": {},
   "source": [
    "# Ex1"
   ]
  },
  {
   "cell_type": "code",
   "execution_count": null,
   "id": "d26dbbe5-2dbe-403a-9d17-543fc5121e32",
   "metadata": {},
   "outputs": [],
   "source": [
    "pokemon_df = spark.read.csv('Files/pokemonDB_dataset.csv', header=True)\n",
    "pokemon_df.printSchema()"
   ]
  },
  {
   "cell_type": "code",
   "execution_count": null,
   "id": "3dbac9cb-e6ec-4336-9324-1a7d74774404",
   "metadata": {},
   "outputs": [],
   "source": []
  },
  {
   "cell_type": "code",
   "execution_count": null,
   "id": "e9d6b198-a692-4322-958d-83f4a635040a",
   "metadata": {},
   "outputs": [],
   "source": [
    "trainers = spark.read.parquet('Files/trainers_with_pockemon.parquet')\n",
    "trainers.printSchema()"
   ]
  },
  {
   "cell_type": "code",
   "execution_count": null,
   "id": "1ae65b9b-dfb3-4a6d-a41e-7195e0ae682e",
   "metadata": {},
   "outputs": [],
   "source": [
    "trainers.createOrReplaceTempView(\"trainers\")\n",
    "pokemon_df.createOrReplaceTempView(\"pokemon_df\")"
   ]
  },
  {
   "cell_type": "code",
   "execution_count": null,
   "id": "668b26d5-246e-4958-888a-75e139ff8ab8",
   "metadata": {},
   "outputs": [],
   "source": [
    "df = spark.sql('SELECT first_name, last_name, AVG(`Defense Max`) as avg_defense FROM pokemon_df INNER JOIN trainers ON pokemon_df.Pokemon = trainers.pockemon GROUP BY first_name, last_name;') "
   ]
  },
  {
   "cell_type": "code",
   "execution_count": null,
   "id": "acda1d65-79ac-4a9c-9e34-dda0da7a5ce5",
   "metadata": {},
   "outputs": [],
   "source": [
    "df.sort(desc(\"avg_defense\"))"
   ]
  },
  {
   "cell_type": "code",
   "execution_count": null,
   "id": "79dd8bc4-953f-4496-819b-a21f6770f6db",
   "metadata": {},
   "outputs": [],
   "source": []
  },
  {
   "cell_type": "code",
   "execution_count": null,
   "id": "54c7da70-9c7a-498e-b3c8-3d38e54d6a16",
   "metadata": {},
   "outputs": [],
   "source": []
  }
 ],
 "metadata": {
  "kernelspec": {
   "display_name": "Python 3 (ipykernel)",
   "language": "python",
   "name": "python3"
  },
  "language_info": {
   "codemirror_mode": {
    "name": "ipython",
    "version": 3
   },
   "file_extension": ".py",
   "mimetype": "text/x-python",
   "name": "python",
   "nbconvert_exporter": "python",
   "pygments_lexer": "ipython3",
   "version": "3.11.7"
  }
 },
 "nbformat": 4,
 "nbformat_minor": 5
}
