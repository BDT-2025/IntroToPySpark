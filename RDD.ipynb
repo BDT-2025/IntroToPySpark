{
 "cells": [
  {
   "cell_type": "code",
   "execution_count": null,
   "id": "4d9254d1-c94b-4c9a-a2cd-e169b606ce25",
   "metadata": {},
   "outputs": [],
   "source": [
    "from pyspark import SparkContext, SparkConf"
   ]
  },
  {
   "cell_type": "code",
   "execution_count": null,
   "id": "02f618dc-e852-4f46-b091-9bea229e7299",
   "metadata": {},
   "outputs": [],
   "source": [
    "from pyspark.sql import SparkSession\n",
    "\n",
    "spark = SparkSession.builder \\\n",
    "    .appName(\"myApp\") \\\n",
    "    .master(\"local[*]\") \\\n",
    "    .config(\"spark.driver.bindAddress\", \"127.0.0.1\") \\\n",
    "    .getOrCreate()\n",
    "\n",
    "sc = spark.sparkContext"
   ]
  },
  {
   "cell_type": "code",
   "execution_count": null,
   "id": "e13c7efe-75f7-47e6-a3cc-67cc94088f4c",
   "metadata": {},
   "outputs": [],
   "source": []
  },
  {
   "cell_type": "code",
   "execution_count": null,
   "id": "35d362fe-827f-4468-8859-e993067158e1",
   "metadata": {},
   "outputs": [],
   "source": []
  },
  {
   "cell_type": "code",
   "execution_count": null,
   "id": "715ffd6e-df04-4ec2-9248-c95bba4c5a8d",
   "metadata": {},
   "outputs": [],
   "source": []
  },
  {
   "cell_type": "code",
   "execution_count": null,
   "id": "192c3528-edd8-4b43-b199-716925c84e15",
   "metadata": {},
   "outputs": [],
   "source": [
    "data = [1, 2, 3, 4, 5]\n",
    "distData = sc.parallelize(data)"
   ]
  },
  {
   "cell_type": "code",
   "execution_count": null,
   "id": "d33141d4-aec3-4713-b927-322de975951d",
   "metadata": {},
   "outputs": [],
   "source": [
    "distData.take(1)"
   ]
  },
  {
   "cell_type": "code",
   "execution_count": null,
   "id": "759cdaff-2d89-47ba-b89c-eaba9c5f9080",
   "metadata": {},
   "outputs": [],
   "source": [
    "distData.map(lambda x: x+1).collect()"
   ]
  },
  {
   "cell_type": "code",
   "execution_count": null,
   "id": "b35dd853-20c1-4762-b8bf-503764900065",
   "metadata": {},
   "outputs": [],
   "source": []
  }
 ],
 "metadata": {
  "kernelspec": {
   "display_name": "Python 3 (ipykernel)",
   "language": "python",
   "name": "python3"
  },
  "language_info": {
   "codemirror_mode": {
    "name": "ipython",
    "version": 3
   },
   "file_extension": ".py",
   "mimetype": "text/x-python",
   "name": "python",
   "nbconvert_exporter": "python",
   "pygments_lexer": "ipython3",
   "version": "3.11.7"
  }
 },
 "nbformat": 4,
 "nbformat_minor": 5
}
